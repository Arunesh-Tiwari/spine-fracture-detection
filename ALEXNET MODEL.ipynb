{
 "cells": [
  {
   "cell_type": "code",
   "execution_count": 1,
   "id": "1a126e67",
   "metadata": {},
   "outputs": [],
   "source": [
    "from PIL import ImageFile\n",
    "ImageFile.LOAD_TRUNCATED_IMAGES = True"
   ]
  },
  {
   "cell_type": "code",
   "execution_count": 2,
   "id": "512760aa",
   "metadata": {},
   "outputs": [
    {
     "name": "stderr",
     "output_type": "stream",
     "text": [
      "C:\\Users\\swapn\\AppData\\Local\\Temp\\ipykernel_1524\\126666604.py:18: DeprecationWarning: ANTIALIAS is deprecated and will be removed in Pillow 10 (2023-07-01). Use LANCZOS or Resampling.LANCZOS instead.\n",
      "  img = img.resize(input_size, Image.ANTIALIAS)\n"
     ]
    }
   ],
   "source": [
    "from PIL import Image\n",
    "import os\n",
    "\n",
    "input_size = (224, 224)\n",
    "\n",
    "# Path to your dataset folders (normal, dislocation, fractured)\n",
    "dataset_path = 'D:/DT MP'\n",
    "\n",
    "# Path to save resized and converted RGB images\n",
    "output_path = 'D:/DTMP'\n",
    "\n",
    "for folder in os.listdir(dataset_path):\n",
    "    if os.path.isdir(os.path.join(dataset_path, folder)):\n",
    "        for filename in os.listdir(os.path.join(dataset_path, folder)):\n",
    "            if filename.lower().endswith(('.kytjpg', '.jpg')):\n",
    "                image_path = os.path.join(dataset_path, folder, filename)\n",
    "                img = Image.open(image_path).convert(\"RGB\")  # Convert to RGB format\n",
    "                img = img.resize(input_size, Image.ANTIALIAS)\n",
    "                img.save(os.path.join(output_path, folder, filename))\n"
   ]
  },
  {
   "cell_type": "code",
   "execution_count": 6,
   "id": "57c40cad",
   "metadata": {},
   "outputs": [],
   "source": [
    "base_dir = 'D:/FDT'\n",
    "os.makedirs(os.path.join(base_dir, 'train'), exist_ok=True)\n",
    "os.makedirs(os.path.join(base_dir, 'val'), exist_ok=True)\n",
    "os.makedirs(os.path.join(base_dir, 'test'), exist_ok=True)"
   ]
  },
  {
   "cell_type": "code",
   "execution_count": 7,
   "id": "681dda38",
   "metadata": {},
   "outputs": [],
   "source": [
    "train_ratio = 0.7\n",
    "val_ratio = 0.15\n",
    "test_ratio = 0.15\n"
   ]
  },
  {
   "cell_type": "code",
   "execution_count": 8,
   "id": "66e9cf87",
   "metadata": {},
   "outputs": [],
   "source": [
    "import random\n",
    "import shutil\n",
    "\n",
    "for class_name in os.listdir('D:/DTMP'):\n",
    "    class_path = os.path.join('D:/DTMP', class_name)\n",
    "    images = os.listdir(class_path)\n",
    "    num_images = len(images)\n",
    "    random.shuffle(images)\n",
    "\n",
    "    train_split = int(train_ratio * num_images)\n",
    "    val_split = int(val_ratio * num_images)\n",
    "\n",
    "    # Copy images to the corresponding split directories\n",
    "    for i, image in enumerate(images):\n",
    "        src_path = os.path.join(class_path, image)\n",
    "        if i < train_split:\n",
    "            dst_dir = os.path.join(base_dir, 'train', class_name)\n",
    "        elif i < train_split + val_split:\n",
    "            dst_dir = os.path.join(base_dir, 'val', class_name)\n",
    "        else:\n",
    "            dst_dir = os.path.join(base_dir, 'test', class_name)\n",
    "        \n",
    "        os.makedirs(dst_dir, exist_ok=True)\n",
    "        shutil.copy(src_path, os.path.join(dst_dir, image))\n"
   ]
  },
  {
   "cell_type": "code",
   "execution_count": 9,
   "id": "792ab415",
   "metadata": {},
   "outputs": [],
   "source": [
    "import tensorflow as tf\n",
    "from tensorflow import keras\n",
    "from tensorflow.keras.models import Sequential\n",
    "from tensorflow.keras.layers import Conv2D, MaxPooling2D, Flatten, Dense, Dropout\n",
    "from tensorflow.keras.optimizers import Adam\n",
    "from tensorflow.keras.preprocessing.image import ImageDataGenerator\n"
   ]
  },
  {
   "cell_type": "code",
   "execution_count": 10,
   "id": "5cd4f348",
   "metadata": {},
   "outputs": [
    {
     "name": "stdout",
     "output_type": "stream",
     "text": [
      "Found 747 images belonging to 3 classes.\n",
      "Found 160 images belonging to 3 classes.\n",
      "Found 162 images belonging to 3 classes.\n"
     ]
    }
   ],
   "source": [
    "train_datagen = ImageDataGenerator(\n",
    "    rescale=1.0/255.0,\n",
    "    shear_range=0.2,\n",
    "    zoom_range=0.2,\n",
    "    horizontal_flip=True\n",
    ")\n",
    "\n",
    "validation_datagen = ImageDataGenerator(rescale=1.0/255.0)\n",
    "test_datagen = ImageDataGenerator(rescale=1.0/255.0)\n",
    "\n",
    "batch_size = 32\n",
    "\n",
    "train_generator = train_datagen.flow_from_directory(\n",
    "    'D:/FDT/train',\n",
    "    target_size=(224, 224),\n",
    "    batch_size=batch_size,\n",
    "    class_mode='categorical'\n",
    ")\n",
    "\n",
    "validation_generator = validation_datagen.flow_from_directory(\n",
    "    'D:/FDT/val',\n",
    "    target_size=(224, 224),\n",
    "    batch_size=batch_size,\n",
    "    class_mode='categorical'\n",
    ")\n",
    "\n",
    "test_generator = test_datagen.flow_from_directory(\n",
    "    'D:/FDT/test',\n",
    "    target_size=(224, 224),\n",
    "    batch_size=batch_size,\n",
    "    class_mode='categorical'\n",
    ")\n"
   ]
  },
  {
   "cell_type": "code",
   "execution_count": 11,
   "id": "c68785d8",
   "metadata": {},
   "outputs": [],
   "source": [
    "model = Sequential()\n",
    "\n",
    "# Convolutional Layers\n",
    "model.add(Conv2D(96, (11, 11), strides=(4, 4), activation='relu', input_shape=(224, 224, 3)))\n",
    "model.add(MaxPooling2D(pool_size=(3, 3), strides=(2, 2)))\n",
    "\n",
    "model.add(Conv2D(256, (5, 5), activation='relu'))\n",
    "model.add(MaxPooling2D(pool_size=(3, 3), strides=(2, 2)))\n",
    "\n",
    "model.add(Conv2D(384, (3, 3), activation='relu'))\n",
    "model.add(Conv2D(384, (3, 3), activation='relu'))\n",
    "model.add(Conv2D(256, (3, 3), activation='relu'))\n",
    "model.add(MaxPooling2D(pool_size=(3, 3), strides=(2, 2)))\n",
    "\n",
    "# Fully Connected Layers\n",
    "model.add(Flatten())\n",
    "model.add(Dense(4096, activation='relu'))\n",
    "model.add(Dropout(0.5))\n",
    "\n",
    "model.add(Dense(4096, activation='relu'))\n",
    "model.add(Dropout(0.5))\n",
    "\n",
    "model.add(Dense(3, activation='softmax'))  # 3 classes: fractured, normal, dislocation\n"
   ]
  },
  {
   "cell_type": "code",
   "execution_count": 13,
   "id": "cb8766b6",
   "metadata": {},
   "outputs": [
    {
     "name": "stdout",
     "output_type": "stream",
     "text": [
      "Epoch 1/30\n",
      "24/24 [==============================] - 54s 2s/step - loss: 0.8527 - accuracy: 0.6613 - val_loss: 0.8381 - val_accuracy: 0.6625\n",
      "Epoch 2/30\n",
      "24/24 [==============================] - 54s 2s/step - loss: 0.8038 - accuracy: 0.6613 - val_loss: 0.8080 - val_accuracy: 0.6625\n",
      "Epoch 3/30\n",
      "24/24 [==============================] - 43s 2s/step - loss: 0.7535 - accuracy: 0.6613 - val_loss: 0.7732 - val_accuracy: 0.6625\n",
      "Epoch 4/30\n",
      "24/24 [==============================] - 41s 2s/step - loss: 0.6977 - accuracy: 0.6747 - val_loss: 0.6270 - val_accuracy: 0.7063\n",
      "Epoch 5/30\n",
      "24/24 [==============================] - 41s 2s/step - loss: 0.6375 - accuracy: 0.7028 - val_loss: 0.6470 - val_accuracy: 0.7312\n",
      "Epoch 6/30\n",
      "24/24 [==============================] - 40s 2s/step - loss: 0.6582 - accuracy: 0.7229 - val_loss: 0.6531 - val_accuracy: 0.7375\n",
      "Epoch 7/30\n",
      "24/24 [==============================] - 40s 2s/step - loss: 0.5056 - accuracy: 0.7510 - val_loss: 0.4307 - val_accuracy: 0.7812\n",
      "Epoch 8/30\n",
      "24/24 [==============================] - 51s 2s/step - loss: 0.4446 - accuracy: 0.8019 - val_loss: 0.4261 - val_accuracy: 0.8125\n",
      "Epoch 9/30\n",
      "24/24 [==============================] - 44s 2s/step - loss: 0.3620 - accuracy: 0.8340 - val_loss: 0.4635 - val_accuracy: 0.8125\n",
      "Epoch 10/30\n",
      "24/24 [==============================] - 38s 2s/step - loss: 0.3160 - accuracy: 0.8568 - val_loss: 0.2723 - val_accuracy: 0.8375\n",
      "Epoch 11/30\n",
      "24/24 [==============================] - 40s 2s/step - loss: 0.3080 - accuracy: 0.8661 - val_loss: 0.2821 - val_accuracy: 0.9250\n",
      "Epoch 12/30\n",
      "24/24 [==============================] - 40s 2s/step - loss: 0.2974 - accuracy: 0.8742 - val_loss: 0.2779 - val_accuracy: 0.8562\n",
      "Epoch 13/30\n",
      "24/24 [==============================] - 42s 2s/step - loss: 0.2743 - accuracy: 0.8795 - val_loss: 0.2640 - val_accuracy: 0.8938\n",
      "Epoch 14/30\n",
      "24/24 [==============================] - 39s 2s/step - loss: 0.1897 - accuracy: 0.9237 - val_loss: 0.2165 - val_accuracy: 0.9125\n",
      "Epoch 15/30\n",
      "24/24 [==============================] - 38s 2s/step - loss: 0.1963 - accuracy: 0.9210 - val_loss: 0.1493 - val_accuracy: 0.9688\n",
      "Epoch 16/30\n",
      "24/24 [==============================] - 39s 2s/step - loss: 0.1946 - accuracy: 0.9197 - val_loss: 0.1570 - val_accuracy: 0.9438\n",
      "Epoch 17/30\n",
      "24/24 [==============================] - 34s 1s/step - loss: 0.1639 - accuracy: 0.9411 - val_loss: 0.2152 - val_accuracy: 0.9000\n",
      "Epoch 18/30\n",
      "24/24 [==============================] - 28s 1s/step - loss: 0.1722 - accuracy: 0.9264 - val_loss: 0.1088 - val_accuracy: 0.9625\n",
      "Epoch 19/30\n",
      "24/24 [==============================] - 28s 1s/step - loss: 0.1649 - accuracy: 0.9411 - val_loss: 0.1383 - val_accuracy: 0.9375\n",
      "Epoch 20/30\n",
      "24/24 [==============================] - 29s 1s/step - loss: 0.1560 - accuracy: 0.9384 - val_loss: 0.1222 - val_accuracy: 0.9625\n",
      "Epoch 21/30\n",
      "24/24 [==============================] - 28s 1s/step - loss: 0.1155 - accuracy: 0.9585 - val_loss: 0.0977 - val_accuracy: 0.9688\n",
      "Epoch 22/30\n",
      "24/24 [==============================] - 29s 1s/step - loss: 0.0960 - accuracy: 0.9732 - val_loss: 0.0383 - val_accuracy: 0.9875\n",
      "Epoch 23/30\n",
      "24/24 [==============================] - 28s 1s/step - loss: 0.1097 - accuracy: 0.9612 - val_loss: 0.1069 - val_accuracy: 0.9688\n",
      "Epoch 24/30\n",
      "24/24 [==============================] - 28s 1s/step - loss: 0.1577 - accuracy: 0.9424 - val_loss: 0.1026 - val_accuracy: 0.9438\n",
      "Epoch 25/30\n",
      "24/24 [==============================] - 29s 1s/step - loss: 0.1196 - accuracy: 0.9572 - val_loss: 0.0580 - val_accuracy: 0.9812\n",
      "Epoch 26/30\n",
      "24/24 [==============================] - 29s 1s/step - loss: 0.0856 - accuracy: 0.9719 - val_loss: 0.0236 - val_accuracy: 1.0000\n",
      "Epoch 27/30\n",
      "24/24 [==============================] - 29s 1s/step - loss: 0.0945 - accuracy: 0.9692 - val_loss: 0.0416 - val_accuracy: 1.0000\n",
      "Epoch 28/30\n",
      "24/24 [==============================] - 29s 1s/step - loss: 0.0906 - accuracy: 0.9746 - val_loss: 0.0233 - val_accuracy: 1.0000\n",
      "Epoch 29/30\n",
      "24/24 [==============================] - 28s 1s/step - loss: 0.0578 - accuracy: 0.9853 - val_loss: 0.0243 - val_accuracy: 1.0000\n",
      "Epoch 30/30\n",
      "24/24 [==============================] - 29s 1s/step - loss: 0.0819 - accuracy: 0.9759 - val_loss: 0.0469 - val_accuracy: 0.9688\n"
     ]
    }
   ],
   "source": [
    "model.compile(optimizer=Adam(learning_rate=0.0001), loss='categorical_crossentropy', metrics=['accuracy'])\n",
    "\n",
    "num_epochs = 30\n",
    "history = model.fit(\n",
    "    train_generator,\n",
    "    epochs=num_epochs,\n",
    "    validation_data=validation_generator\n",
    ")\n"
   ]
  },
  {
   "cell_type": "code",
   "execution_count": 14,
   "id": "8542e385",
   "metadata": {},
   "outputs": [
    {
     "name": "stdout",
     "output_type": "stream",
     "text": [
      "6/6 [==============================] - 1s 224ms/step - loss: 0.1684 - accuracy: 0.9383\n",
      "Test accuracy: 93.83%\n"
     ]
    }
   ],
   "source": [
    "test_loss, test_accuracy = model.evaluate(test_generator)\n",
    "print(f'Test accuracy: {test_accuracy * 100:.2f}%')\n"
   ]
  },
  {
   "cell_type": "code",
   "execution_count": null,
   "id": "18eecaad",
   "metadata": {},
   "outputs": [],
   "source": []
  }
 ],
 "metadata": {
  "kernelspec": {
   "display_name": "Python 3 (ipykernel)",
   "language": "python",
   "name": "python3"
  },
  "language_info": {
   "codemirror_mode": {
    "name": "ipython",
    "version": 3
   },
   "file_extension": ".py",
   "mimetype": "text/x-python",
   "name": "python",
   "nbconvert_exporter": "python",
   "pygments_lexer": "ipython3",
   "version": "3.10.9"
  }
 },
 "nbformat": 4,
 "nbformat_minor": 5
}
